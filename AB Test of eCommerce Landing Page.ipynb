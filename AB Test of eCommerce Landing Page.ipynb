{
 "cells": [
  {
   "cell_type": "markdown",
   "metadata": {},
   "source": [
    "**AB Test of Conversion Rate**"
   ]
  },
  {
   "cell_type": "markdown",
   "metadata": {},
   "source": [
    "Data:\n",
    "- There are 298,234 visiting times of the website last week. The server showed A and B versions with equal times among all the visitings.\n",
    "- There are 8365 successful conversions in version A, and 8604 successful conversions in version B.\n",
    "\n",
    "Do A and B versions of the website give the website the same conversion rate? What is the significance level?"
   ]
  },
  {
   "cell_type": "code",
   "execution_count": 1,
   "metadata": {},
   "outputs": [],
   "source": [
    "# Assign variables\n",
    "visits.per.group <- 298234/2\n",
    "success.A <- 8365\n",
    "success.B <- 8604\n",
    "conversion.rate.A <- success.A / visits.per.group\n",
    "conversion.rate.B <- success.B / visits.per.group"
   ]
  },
  {
   "cell_type": "markdown",
   "metadata": {},
   "source": [
    "**Proportional hypothesis test**\n",
    "\n",
    "- H0 (null hypothesis): conversion rates of version A and B are the same.\n",
    "- H1 (alternative hypothesis): conversion rates of version A and B are different."
   ]
  },
  {
   "cell_type": "code",
   "execution_count": 2,
   "metadata": {},
   "outputs": [
    {
     "data": {
      "text/plain": [
       "\n",
       "\t2-sample test for equality of proportions with continuity correction\n",
       "\n",
       "data:  c(success.A, success.B) out of c(visits.per.group, visits.per.group)\n",
       "X-squared = 3.5395, df = 1, p-value = 0.05992\n",
       "alternative hypothesis: two.sided\n",
       "95 percent confidence interval:\n",
       " -3.272220e-03  6.668315e-05\n",
       "sample estimates:\n",
       "    prop 1     prop 2 \n",
       "0.05609689 0.05769966 \n"
      ]
     },
     "metadata": {},
     "output_type": "display_data"
    }
   ],
   "source": [
    "proportion.test.results <- prop.test(x=c(success.A, success.B), n=c(visits.per.group, visits.per.group),\n",
    "                                     alternative=\"two.sided\",\n",
    "                                     conf.level=0.95, correct=TRUE)\n",
    "proportion.test.results "
   ]
  },
  {
   "cell_type": "markdown",
   "metadata": {},
   "source": [
    "**If  H1  is true, what is the possiblity that we accept  H0  when  H1  is true? In other words, what's the 'power' of the results?**"
   ]
  },
  {
   "cell_type": "code",
   "execution_count": 3,
   "metadata": {},
   "outputs": [
    {
     "name": "stdout",
     "output_type": "stream",
     "text": [
      "\n",
      "     Two-sample comparison of proportions power calculation \n",
      "\n",
      "              n = 149117\n",
      "             p1 = 0.05609689\n",
      "             p2 = 0.05769966\n",
      "      sig.level = 0.05\n",
      "          power = 0.4718144\n",
      "    alternative = two.sided\n",
      "\n",
      "NOTE: n is number in *each* group\n",
      "\n"
     ]
    }
   ],
   "source": [
    "proportion.test.power <- power.prop.test(n=visits.per.group, p1=conversion.rate.A, p2=conversion.rate.B, sig.level=0.05)\n",
    "print(proportion.test.power)"
   ]
  }
 ],
 "metadata": {
  "kernelspec": {
   "display_name": "R",
   "language": "R",
   "name": "ir"
  },
  "language_info": {
   "codemirror_mode": "r",
   "file_extension": ".r",
   "mimetype": "text/x-r-source",
   "name": "R",
   "pygments_lexer": "r",
   "version": "3.6.1"
  }
 },
 "nbformat": 4,
 "nbformat_minor": 4
}
