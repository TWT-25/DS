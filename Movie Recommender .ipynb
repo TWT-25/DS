{
 "cells": [
  {
   "cell_type": "markdown",
   "metadata": {},
   "source": [
    "# Movie Recommender System\n",
    "\n",
    "Using the MovieLens 100K Dataset "
   ]
  },
  {
   "cell_type": "markdown",
   "metadata": {},
   "source": [
    "**Load Dataset**\n",
    "\n",
    "Set the min_rating parameter to be anything between 0.0 to 5.0 to include only those reviews with a set minimum rating. The rest of the parameters are set to default. "
   ]
  },
  {
   "cell_type": "code",
   "execution_count": 1,
   "metadata": {},
   "outputs": [
    {
     "name": "stderr",
     "output_type": "stream",
     "text": [
      "C:\\Users\\Paula\\anaconda3\\lib\\site-packages\\lightfm\\_lightfm_fast.py:9: UserWarning: LightFM was compiled without OpenMP support. Only a single thread will be used.\n",
      "  warnings.warn(\n"
     ]
    }
   ],
   "source": [
    "from lightfm import LightFM\n",
    "from lightfm.datasets import fetch_movielens\n",
    "# Fetching data using fetch_movielens method\n",
    "movielens_data = fetch_movielens(min_rating = 3.0)"
   ]
  },
  {
   "cell_type": "code",
   "execution_count": 2,
   "metadata": {},
   "outputs": [
    {
     "name": "stdout",
     "output_type": "stream",
     "text": [
      "train <class 'scipy.sparse.coo.coo_matrix'> (943, 1682)\n",
      "test <class 'scipy.sparse.coo.coo_matrix'> (943, 1682)\n",
      "item_features <class 'scipy.sparse.csr.csr_matrix'> (1682, 1682)\n",
      "item_feature_labels <class 'numpy.ndarray'> (1682,)\n",
      "item_labels <class 'numpy.ndarray'> (1682,)\n"
     ]
    }
   ],
   "source": [
    "# See what the movielens_data variable contains\n",
    "for key, value in movielens_data.items():\n",
    "    print(key, type(value), value.shape)"
   ]
  },
  {
   "cell_type": "markdown",
   "metadata": {},
   "source": [
    "train – Contains training set interactions.\n",
    "\n",
    "test – Contains testing set interactions.\n",
    "\n",
    "item_features  – Contains item features.\n",
    "\n",
    "item_feature_labels  – Labels of item features.\n",
    "\n",
    "item_labels  – Items’ titles."
   ]
  },
  {
   "cell_type": "code",
   "execution_count": 3,
   "metadata": {},
   "outputs": [],
   "source": [
    "train = movielens_data['train']\n",
    "labels = movielens_data['item_labels']"
   ]
  },
  {
   "cell_type": "code",
   "execution_count": 4,
   "metadata": {},
   "outputs": [
    {
     "data": {
      "text/plain": [
       "(0.0, 100.0)"
      ]
     },
     "execution_count": 4,
     "metadata": {},
     "output_type": "execute_result"
    },
    {
     "data": {
      "image/png": "[encoded data removed]",
      "text/plain": [
       "<Figure size 864x864 with 2 Axes>"
      ]
     },
     "metadata": {
      "needs_background": "light"
     },
     "output_type": "display_data"
    }
   ],
   "source": [
    "import matplotlib.pylab as plt\n",
    "# Visualize the MovieLense data matrix of the \n",
    "# first 100 rows and 100 columns in form of a heatmap\n",
    "plt.figure(figsize=(12,12))\n",
    "d = train.todense()\n",
    "plt.imshow(d, interpolation='none', cmap='binary')\n",
    "plt.colorbar()\n",
    "plt.xlabel('Items')\n",
    "plt.ylabel('Users')\n",
    "plt.xlim(0,100)\n",
    "plt.ylim(0,100)\n",
    "# Only ratings beyond 3.0 will be shown"
   ]
  },
  {
   "cell_type": "markdown",
   "metadata": {},
   "source": [
    "**Build Model**\n",
    "\n",
    "Specify the the learning schedule, learning rate and loss paramter, and use one of the 4 loss functions WARP. The rest of the parameters are set to default."
   ]
  },
  {
   "cell_type": "code",
   "execution_count": 5,
   "metadata": {},
   "outputs": [
    {
     "data": {
      "text/plain": [
       "<lightfm.lightfm.LightFM at 0x19054bf3430>"
      ]
     },
     "execution_count": 5,
     "metadata": {},
     "output_type": "execute_result"
    }
   ],
   "source": [
    "# Building the model \n",
    "model = LightFM(learning_schedule ='adagrad', learning_rate = 0.1, loss = 'warp')\n",
    "\n",
    "# Training the model\n",
    "model.fit(train, epochs = 30, num_threads = 2)"
   ]
  },
  {
   "cell_type": "code",
   "execution_count": 6,
   "metadata": {},
   "outputs": [
    {
     "name": "stdout",
     "output_type": "stream",
     "text": [
      "n_users: 943\n",
      "n_items: 1682\n"
     ]
    }
   ],
   "source": [
    "# Number of users and movies in training data\n",
    "n_users, n_items = movielens_data['train'].shape\n",
    "print(\"n_users: \" + str(n_users))\n",
    "print(\"n_items: \" + str(n_items))"
   ]
  },
  {
   "cell_type": "markdown",
   "metadata": {},
   "source": [
    "**Prediction**"
   ]
  },
  {
   "cell_type": "code",
   "execution_count": 7,
   "metadata": {},
   "outputs": [],
   "source": [
    "# Randomly selecting a user (i.e. user_id) \n",
    "user_id = 118"
   ]
  },
  {
   "cell_type": "code",
   "execution_count": 8,
   "metadata": {},
   "outputs": [
    {
     "name": "stdout",
     "output_type": "stream",
     "text": [
      "\n",
      "Movies already liked by User 118:\n",
      "    Twelve Monkeys (1995)\n",
      "    Dead Man Walking (1995)\n",
      "    Seven (Se7en) (1995)\n",
      "    Usual Suspects, The (1995)\n",
      "    Braveheart (1995)\n",
      "    Taxi Driver (1976)\n",
      "    Rumble in the Bronx (1995)\n",
      "    Birdcage, The (1996)\n",
      "    Apollo 13 (1995)\n",
      "    Crimson Tide (1995)\n",
      "    To Wong Foo, Thanks for Everything! Julie Newmar (1995)\n",
      "    Star Wars (1977)\n",
      "    Madness of King George, The (1994)\n",
      "    Outbreak (1995)\n",
      "    Pulp Fiction (1994)\n",
      "    Shawshank Redemption, The (1994)\n",
      "    Four Weddings and a Funeral (1994)\n",
      "    Much Ado About Nothing (1993)\n",
      "    Remains of the Day, The (1993)\n",
      "    Searching for Bobby Fischer (1993)\n",
      "    Blade Runner (1982)\n",
      "    Welcome to the Dollhouse (1995)\n",
      "    Terminator 2: Judgment Day (1991)\n",
      "    Fargo (1996)\n",
      "    Mystery Science Theater 3000: The Movie (1996)\n",
      "    Truth About Cats & Dogs, The (1996)\n",
      "    Rock, The (1996)\n",
      "    Independence Day (ID4) (1996)\n",
      "    Lone Star (1996)\n",
      "    Phenomenon (1996)\n",
      "    Wizard of Oz, The (1939)\n",
      "    Big Night (1996)\n",
      "    Die Hard (1988)\n",
      "    Long Kiss Goodnight, The (1996)\n",
      "    Monty Python's Life of Brian (1979)\n",
      "    Monty Python and the Holy Grail (1974)\n",
      "    Empire Strikes Back, The (1980)\n",
      "    Raiders of the Lost Ark (1981)\n",
      "    Return of the Jedi (1983)\n",
      "    GoodFellas (1990)\n",
      "    Full Metal Jacket (1987)\n",
      "    Right Stuff, The (1983)\n",
      "    Sting, The (1973)\n",
      "    Dead Poets Society (1989)\n",
      "    Bridge on the River Kwai, The (1957)\n",
      "    Back to the Future (1985)\n",
      "    This Is Spinal Tap (1984)\n",
      "    Indiana Jones and the Last Crusade (1989)\n",
      "    Die Hard 2 (1990)\n",
      "    Mars Attacks! (1996)\n",
      "    Devil's Own, The (1997)\n",
      "    Lost World: Jurassic Park, The (1997)\n",
      "    My Best Friend's Wedding (1997)\n",
      "    Men in Black (1997)\n",
      "    George of the Jungle (1997)\n",
      "    Chasing Amy (1997)\n",
      "    Full Monty, The (1997)\n",
      "    Starship Troopers (1997)\n",
      "    Good Will Hunting (1997)\n",
      "    Sabrina (1995)\n",
      "    Sense and Sensibility (1995)\n",
      "    Restoration (1995)\n",
      "    Time to Kill, A (1996)\n",
      "    English Patient, The (1996)\n",
      "    Marvin's Room (1996)\n",
      "    Scream (1996)\n",
      "    Face/Off (1997)\n",
      "    Hoodlum (1997)\n",
      "    Air Force One (1997)\n",
      "    In & Out (1997)\n",
      "    Rainmaker, The (1997)\n",
      "    Apt Pupil (1998)\n",
      "    As Good As It Gets (1997)\n",
      "    Murder at 1600 (1997)\n",
      "    Dante's Peak (1997)\n",
      "    Desperate Measures (1998)\n",
      "    Kiss the Girls (1997)\n",
      "    Boogie Nights (1997)\n",
      "    Desperate Measures (1998)\n",
      "    Hard Rain (1998)\n",
      "    Wedding Singer, The (1998)\n",
      "    True Lies (1994)\n",
      "    Mission: Impossible (1996)\n",
      "    Very Brady Sequel, A (1996)\n",
      "    Star Trek: The Motion Picture (1979)\n",
      "    Grease (1978)\n",
      "    Jackie Chan's First Strike (1996)\n",
      "    Nixon (1995)\n",
      "    Cry, the Beloved Country (1995)\n",
      "    Courage Under Fire (1996)\n",
      "    Dragonheart (1996)\n",
      "    James and the Giant Peach (1996)\n",
      "    Trainspotting (1996)\n",
      "    Sabrina (1954)\n",
      "    East of Eden (1955)\n",
      "    Rebel Without a Cause (1955)\n",
      "    Lawrence of Arabia (1962)\n",
      "    My Own Private Idaho (1991)\n",
      "    Broken Arrow (1996)\n",
      "    Die Hard: With a Vengeance (1995)\n",
      "    Quick and the Dead, The (1995)\n",
      "    Speed (1994)\n",
      "    Primal Fear (1996)\n",
      "    Fan, The (1996)\n",
      "    Eraser (1996)\n",
      "    Sleepers (1996)\n",
      "    Stand by Me (1986)\n",
      "    Pump Up the Volume (1990)\n",
      "    In the Line of Fire (1993)\n",
      "    Executive Decision (1996)\n",
      "    Jackal, The (1997)\n",
      "    Basketball Diaries, The (1995)\n",
      "    Better Off Dead... (1985)\n",
      "    Home for the Holidays (1995)\n",
      "    Juror, The (1996)\n",
      "    Immortal Beloved (1994)\n",
      "    Last Supper, The (1995)\n",
      "    Ransom (1996)\n",
      "    Tomorrow Never Dies (1997)\n",
      "    Beautiful Girls (1996)\n",
      "    Celluloid Closet, The (1995)\n",
      "    Mulholland Falls (1996)\n",
      "    Arrival, The (1996)\n",
      "    Phantom, The (1996)\n",
      "    Daylight (1996)\n",
      "    Fled (1996)\n",
      "    That Thing You Do! (1996)\n",
      "    Michael (1996)\n",
      "    Peacemaker, The (1997)\n",
      "    Mercury Rising (1998)\n",
      "    White Squall (1996)\n",
      "    Chain Reaction (1996)\n",
      "    Substitute, The (1996)\n",
      "    Maximum Risk (1996)\n",
      "    Turbulence (1997)\n",
      "    Kiss Me, Guido (1997)\n",
      "    Con Air (1997)\n",
      "    Quest, The (1996)\n",
      "    Dracula: Dead and Loving It (1995)\n",
      "    It's My Party (1995)\n",
      "    Six Degrees of Separation (1993)\n",
      "    Beautiful Thing (1996)\n",
      "    Love! Valour! Compassion! (1997)\n",
      "    Love & Human Remains (1993)\n",
      "    Spanking the Monkey (1994)\n",
      "    Family Thing, A (1996)\n",
      "    Maybe, Maybe Not (Bewegte Mann, Der) (1994)\n",
      "    Metro (1997)\n",
      "    Pie in the Sky (1995)\n",
      "    Total Eclipse (1995)\n",
      "    Run of the Country, The (1995)\n",
      "    Walking and Talking (1996)\n",
      "    Foxfire (1996)\n",
      "    Nothing to Lose (1994)\n",
      "    Star Maps (1997)\n"
     ]
    }
   ],
   "source": [
    "# List of movies user 118 has already liked\n",
    "already_liked = labels[train.tocsr()[user_id].indices]\n",
    "\n",
    "print(\"\\nMovies already liked by User %s:\" % user_id)\n",
    "for x in already_liked:\n",
    "  print(\"    %s\" % x)"
   ]
  },
  {
   "cell_type": "code",
   "execution_count": 9,
   "metadata": {},
   "outputs": [
    {
     "name": "stdout",
     "output_type": "stream",
     "text": [
      "[   0    1    2 ... 1679 1680 1681]\n"
     ]
    }
   ],
   "source": [
    "# Create a variable item_ids, an array to list all the numbers to mark an ID for every movie\n",
    "import numpy as np\n",
    "# Movies our model predicts they will like:\n",
    "item_ids = np.arange(n_items)\n",
    "print(item_ids)"
   ]
  },
  {
   "cell_type": "code",
   "execution_count": 10,
   "metadata": {},
   "outputs": [
    {
     "name": "stdout",
     "output_type": "stream",
     "text": [
      "[ -8.712564 -10.557685 -10.940129 ... -14.447687 -13.938691 -13.316074]\n"
     ]
    }
   ],
   "source": [
    "# Create another variable, scores which is a single dimension arrays of scores \n",
    "# that will predict the preference score for each movie for that particular user.\n",
    "scores = model.predict(user_id, item_ids)\n",
    "\n",
    "# Printing the scores\n",
    "print(scores)"
   ]
  },
  {
   "cell_type": "code",
   "execution_count": 11,
   "metadata": {},
   "outputs": [
    {
     "name": "stdout",
     "output_type": "stream",
     "text": [
      "['Rock, The (1996)' 'Independence Day (ID4) (1996)' 'Contact (1997)' ...\n",
      " 'Madame Butterfly (1995)' 'Foreign Correspondent (1940)' 'Top Hat (1935)']\n"
     ]
    }
   ],
   "source": [
    "# Rank them in order of most liked to least:\n",
    "sorted_ids = np.argsort(-scores) # Using negative sign to sort in order of most liked first\n",
    "\n",
    "top_items = movielens_data['item_labels'][sorted_ids]\n",
    "\n",
    "# Printing the top_items\n",
    "print(top_items)"
   ]
  },
  {
   "cell_type": "code",
   "execution_count": 12,
   "metadata": {},
   "outputs": [
    {
     "name": "stdout",
     "output_type": "stream",
     "text": [
      "Top 5 movies to be recommended to user 118 are:\n",
      "\n",
      "1. Rock, The (1996)\n",
      "2. Independence Day (ID4) (1996)\n",
      "3. Contact (1997)\n",
      "4. Star Trek: First Contact (1996)\n",
      "5. Mission: Impossible (1996)\n"
     ]
    }
   ],
   "source": [
    "print(\"Top 5 movies to be recommended to user \" + str(user_id) + \" are:\\n\")\n",
    "\n",
    "for movie in range(5):\n",
    "    print(str(movie+1) + \". \" + top_items[movie])"
   ]
  },
  {
   "cell_type": "code",
   "execution_count": null,
   "metadata": {},
   "outputs": [],
   "source": []
  }
 ],
 "metadata": {
  "kernelspec": {
   "display_name": "Python 3",
   "language": "python",
   "name": "python3"
  },
  "language_info": {
   "codemirror_mode": {
    "name": "ipython",
    "version": 3
   },
   "file_extension": ".py",
   "mimetype": "text/x-python",
   "name": "python",
   "nbconvert_exporter": "python",
   "pygments_lexer": "ipython3",
   "version": "3.8.3"
  }
 },
 "nbformat": 4,
 "nbformat_minor": 4
}
