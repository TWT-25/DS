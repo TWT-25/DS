{
 "cells": [
  {
   "cell_type": "markdown",
   "metadata": {},
   "source": [
    "# Kaggle Capstone Project (boosted decision tree ensemble)\n",
    "Project located at https://www.kaggle.com/c/datasciencedojo-capstone/overview"
   ]
  },
  {
   "cell_type": "code",
   "execution_count": 1,
   "metadata": {},
   "outputs": [
    {
     "name": "stdout",
     "output_type": "stream",
     "text": [
      "<class 'pandas.core.frame.DataFrame'>\n",
      "RangeIndex: 891 entries, 0 to 890\n",
      "Data columns (total 12 columns):\n",
      " #   Column       Non-Null Count  Dtype   \n",
      "---  ------       --------------  -----   \n",
      " 0   PassengerId  891 non-null    int64   \n",
      " 1   Survived     891 non-null    category\n",
      " 2   Pclass       891 non-null    int64   \n",
      " 3   Name         891 non-null    object  \n",
      " 4   Sex          891 non-null    object  \n",
      " 5   Age          714 non-null    float64 \n",
      " 6   SibSp        891 non-null    int64   \n",
      " 7   Parch        891 non-null    int64   \n",
      " 8   Ticket       891 non-null    object  \n",
      " 9   Fare         891 non-null    float64 \n",
      " 10  Cabin        204 non-null    object  \n",
      " 11  Embarked     889 non-null    object  \n",
      "dtypes: category(1), float64(2), int64(4), object(5)\n",
      "memory usage: 77.7+ KB\n"
     ]
    }
   ],
   "source": [
    "import pandas as pd\n",
    "titanic = pd.read_csv('/Datasets/Titanic/train.csv')\n",
    "# The 'Survived' column only exists in the train data set, so it is first treated here\n",
    "titanic['Survived'] = pd.Categorical(titanic.Survived)\n",
    "titanic.info()"
   ]
  },
  {
   "cell_type": "code",
   "execution_count": 2,
   "metadata": {},
   "outputs": [],
   "source": [
    "# Function to clean both train and test data\n",
    "def treatData(titanic):\n",
    "    titanic = titanic.drop(['Name', 'Ticket', 'Cabin', 'Fare', 'PassengerId'], axis=1)\n",
    "    titanic['Age'].fillna((titanic['Age'].median()), inplace=True)\n",
    "    mode = titanic['Embarked'].value_counts().index[0]\n",
    "    titanic.loc[pd.isnull(titanic['Embarked']), 'Embarked'] = mode\n",
    "    titanic['Pclass'] = pd.Categorical(titanic.Pclass)\n",
    "    titanic['Embarked'] = pd.Categorical(titanic.Embarked)\n",
    "    titanic['Sex'] = pd.Categorical(titanic.Sex)\n",
    "    titanic.info()\n",
    "    return titanic"
   ]
  },
  {
   "cell_type": "code",
   "execution_count": 3,
   "metadata": {
    "scrolled": true
   },
   "outputs": [
    {
     "name": "stdout",
     "output_type": "stream",
     "text": [
      "<class 'pandas.core.frame.DataFrame'>\n",
      "RangeIndex: 418 entries, 0 to 417\n",
      "Data columns (total 6 columns):\n",
      " #   Column    Non-Null Count  Dtype   \n",
      "---  ------    --------------  -----   \n",
      " 0   Pclass    418 non-null    category\n",
      " 1   Sex       418 non-null    category\n",
      " 2   Age       418 non-null    float64 \n",
      " 3   SibSp     418 non-null    int64   \n",
      " 4   Parch     418 non-null    int64   \n",
      " 5   Embarked  418 non-null    category\n",
      "dtypes: category(3), float64(1), int64(2)\n",
      "memory usage: 11.4 KB\n"
     ]
    }
   ],
   "source": [
    "# Prepping test data\n",
    "test_set = pd.read_csv('/Datasets/Titanic/test.csv')\n",
    "test_treated = treatData(test_set)"
   ]
  },
  {
   "cell_type": "code",
   "execution_count": 4,
   "metadata": {},
   "outputs": [
    {
     "name": "stdout",
     "output_type": "stream",
     "text": [
      "<class 'pandas.core.frame.DataFrame'>\n",
      "RangeIndex: 891 entries, 0 to 890\n",
      "Data columns (total 7 columns):\n",
      " #   Column    Non-Null Count  Dtype   \n",
      "---  ------    --------------  -----   \n",
      " 0   Survived  891 non-null    category\n",
      " 1   Pclass    891 non-null    category\n",
      " 2   Sex       891 non-null    category\n",
      " 3   Age       891 non-null    float64 \n",
      " 4   SibSp     891 non-null    int64   \n",
      " 5   Parch     891 non-null    int64   \n",
      " 6   Embarked  891 non-null    category\n",
      "dtypes: category(4), float64(1), int64(2)\n",
      "memory usage: 24.9 KB\n"
     ]
    }
   ],
   "source": [
    "# Prepping train data\n",
    "titanic_treated = treatData(titanic)"
   ]
  },
  {
   "cell_type": "code",
   "execution_count": 5,
   "metadata": {},
   "outputs": [],
   "source": [
    "# Boosting ensemble model setup\n",
    "titanic_survived_Y = titanic_treated['Survived']\n",
    "titanic_X = pd.get_dummies(titanic_treated.loc[:, ~titanic_treated.columns.isin(['Survived'])])"
   ]
  },
  {
   "cell_type": "code",
   "execution_count": 6,
   "metadata": {},
   "outputs": [],
   "source": [
    "from sklearn.ensemble import GradientBoostingClassifier\n",
    "titanic_gbt_clf = GradientBoostingClassifier(loss='exponential', learning_rate=0.1,\n",
    "                                             n_estimators=100, subsample=1.0, min_samples_split=2,\n",
    "                                             min_samples_leaf=1, max_depth=3)\n",
    "titanic_gbt_clf = titanic_gbt_clf.fit(titanic_X, titanic_survived_Y)"
   ]
  },
  {
   "cell_type": "code",
   "execution_count": 7,
   "metadata": {},
   "outputs": [],
   "source": [
    "# Predicting 'Survived' using current model\n",
    "titanic_gbt_pred = titanic_gbt_clf.predict(pd.get_dummies(test_treated))"
   ]
  },
  {
   "cell_type": "code",
   "execution_count": 8,
   "metadata": {},
   "outputs": [],
   "source": [
    "# Export csv file to submit to Kaggle\n",
    "prediction = pd.DataFrame({'Survived':titanic_gbt_pred}).to_csv('prediction.csv')"
   ]
  },
  {
   "cell_type": "code",
   "execution_count": null,
   "metadata": {},
   "outputs": [],
   "source": []
  }
 ],
 "metadata": {
  "kernelspec": {
   "display_name": "Python 3",
   "language": "python",
   "name": "python3"
  },
  "language_info": {
   "codemirror_mode": {
    "name": "ipython",
    "version": 3
   },
   "file_extension": ".py",
   "mimetype": "text/x-python",
   "name": "python",
   "nbconvert_exporter": "python",
   "pygments_lexer": "ipython3",
   "version": "3.8.3"
  }
 },
 "nbformat": 4,
 "nbformat_minor": 4
}
