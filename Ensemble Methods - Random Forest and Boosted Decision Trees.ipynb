{
 "cells": [
  {
   "cell_type": "markdown",
   "metadata": {},
   "source": [
    "# Ensemble Methods - Random Forest and Boosted Decision Trees"
   ]
  },
  {
   "cell_type": "code",
   "execution_count": 1,
   "metadata": {},
   "outputs": [
    {
     "name": "stdout",
     "output_type": "stream",
     "text": [
      "<class 'pandas.core.frame.DataFrame'>\n",
      "RangeIndex: 891 entries, 0 to 890\n",
      "Data columns (total 12 columns):\n",
      " #   Column       Non-Null Count  Dtype  \n",
      "---  ------       --------------  -----  \n",
      " 0   PassengerId  891 non-null    int64  \n",
      " 1   Survived     891 non-null    int64  \n",
      " 2   Pclass       891 non-null    int64  \n",
      " 3   Name         891 non-null    object \n",
      " 4   Sex          891 non-null    object \n",
      " 5   Age          714 non-null    float64\n",
      " 6   SibSp        891 non-null    int64  \n",
      " 7   Parch        891 non-null    int64  \n",
      " 8   Ticket       891 non-null    object \n",
      " 9   Fare         891 non-null    float64\n",
      " 10  Cabin        204 non-null    object \n",
      " 11  Embarked     889 non-null    object \n",
      "dtypes: float64(2), int64(5), object(5)\n",
      "memory usage: 83.7+ KB\n"
     ]
    }
   ],
   "source": [
    "import pandas as pd\n",
    "titanic = pd.read_csv('/Datasets/Titanic/train.csv')\n",
    "titanic.info()"
   ]
  },
  {
   "cell_type": "markdown",
   "metadata": {},
   "source": [
    "**Data Cleaning**"
   ]
  },
  {
   "cell_type": "code",
   "execution_count": 2,
   "metadata": {},
   "outputs": [],
   "source": [
    "# Remove PassengerID, Name, Ticket, and Cabin attributes\n",
    "titanic = titanic.drop(['PassengerId', 'Name', 'Ticket', 'Cabin', 'Fare'], axis=1)"
   ]
  },
  {
   "cell_type": "code",
   "execution_count": 3,
   "metadata": {},
   "outputs": [],
   "source": [
    "# Fill in missing values: Age (median) and Embarked (NA)\n",
    "titanic['Age'].fillna((titanic['Age'].median()), inplace=True)\n",
    "titanic.loc[pd.isnull(titanic['Embarked']), 'Embarked'] = 'U'"
   ]
  },
  {
   "cell_type": "code",
   "execution_count": 4,
   "metadata": {},
   "outputs": [
    {
     "name": "stdout",
     "output_type": "stream",
     "text": [
      "<class 'pandas.core.frame.DataFrame'>\n",
      "RangeIndex: 891 entries, 0 to 890\n",
      "Data columns (total 7 columns):\n",
      " #   Column    Non-Null Count  Dtype   \n",
      "---  ------    --------------  -----   \n",
      " 0   Survived  891 non-null    category\n",
      " 1   Pclass    891 non-null    category\n",
      " 2   Sex       891 non-null    category\n",
      " 3   Age       891 non-null    float64 \n",
      " 4   SibSp     891 non-null    int64   \n",
      " 5   Parch     891 non-null    int64   \n",
      " 6   Embarked  891 non-null    category\n",
      "dtypes: category(4), float64(1), int64(2)\n",
      "memory usage: 25.0 KB\n"
     ]
    }
   ],
   "source": [
    "# Cast categorical features to categorical\n",
    "titanic['Survived'] = pd.Categorical(titanic.Survived)\n",
    "titanic['Pclass'] = pd.Categorical(titanic.Pclass)\n",
    "titanic['Embarked'] = pd.Categorical(titanic.Embarked)\n",
    "titanic['Sex'] = pd.Categorical(titanic.Sex)\n",
    "titanic.info()"
   ]
  },
  {
   "cell_type": "markdown",
   "metadata": {},
   "source": [
    "**Build Random Forest Model**"
   ]
  },
  {
   "cell_type": "code",
   "execution_count": 5,
   "metadata": {},
   "outputs": [
    {
     "name": "stdout",
     "output_type": "stream",
     "text": [
      "Training set (624, 7)\n",
      "Testing set (143, 7)\n"
     ]
    }
   ],
   "source": [
    "# Randomly selecting training set (70%) and testing set data (30%)\n",
    "titanic_train = titanic.sample(frac=0.7, random_state=1)\n",
    "titanic_test = titanic.loc[~titanic.set_index(list(titanic.columns)).index.isin(titanic_train.set_index(list(titanic_train.columns)).index)]\n",
    "print('Training set', titanic_train.shape)\n",
    "print('Testing set', titanic_test.shape)"
   ]
  },
  {
   "cell_type": "code",
   "execution_count": 6,
   "metadata": {},
   "outputs": [],
   "source": [
    "# Build random forest\n",
    "from sklearn.ensemble import RandomForestClassifier\n",
    "\n",
    "titanic_train_survived_Y = titanic_train['Survived']\n",
    "titanic_train_X = pd.get_dummies(titanic_train.loc[:, ~titanic_train.columns.isin(['Survived'])])\n",
    "titanic_test_survived_Y = titanic_test['Survived']\n",
    "titanic_test_X = pd.get_dummies(titanic_test.loc[:, ~titanic_test.columns.isin(['Survived'])])\n",
    "\n",
    "titanic_features = titanic.columns[1:]\n",
    "titanic_rf_clf = RandomForestClassifier(n_estimators=500, random_state=1)\n",
    "titanic_rf_clf = titanic_rf_clf.fit(titanic_train_X, titanic_train_survived_Y)"
   ]
  },
  {
   "cell_type": "markdown",
   "metadata": {},
   "source": [
    "**Model Evaluation**"
   ]
  },
  {
   "cell_type": "code",
   "execution_count": 7,
   "metadata": {},
   "outputs": [
    {
     "name": "stdout",
     "output_type": "stream",
     "text": [
      "[[58 18]\n",
      " [22 45]]\n"
     ]
    }
   ],
   "source": [
    "from sklearn import metrics\n",
    "# Predict survival as the class outcome\n",
    "titanic_rf_pred = titanic_rf_clf.predict(titanic_test_X)\n",
    "# Build the confusion matrix\n",
    "titanic_rf_cm = metrics.confusion_matrix(titanic_test_survived_Y, titanic_rf_pred, labels=[0,1])\n",
    "print(titanic_rf_cm)"
   ]
  },
  {
   "cell_type": "code",
   "execution_count": 8,
   "metadata": {},
   "outputs": [
    {
     "name": "stdout",
     "output_type": "stream",
     "text": [
      "Accuracy 0.7202797202797203\n"
     ]
    }
   ],
   "source": [
    "# Accuracy\n",
    "titanic_rf_acc = metrics.accuracy_score(titanic_test_survived_Y, titanic_rf_pred)\n",
    "print('Accuracy', titanic_rf_acc)"
   ]
  },
  {
   "cell_type": "code",
   "execution_count": 9,
   "metadata": {},
   "outputs": [
    {
     "name": "stdout",
     "output_type": "stream",
     "text": [
      "Precision 0.7142857142857143\n"
     ]
    }
   ],
   "source": [
    "# Precision\n",
    "titanic_rf_prec = metrics.precision_score(titanic_test_survived_Y, titanic_rf_pred)\n",
    "print('Precision', titanic_rf_prec)"
   ]
  },
  {
   "cell_type": "code",
   "execution_count": 10,
   "metadata": {},
   "outputs": [
    {
     "name": "stdout",
     "output_type": "stream",
     "text": [
      "Recall 0.6716417910447762\n"
     ]
    }
   ],
   "source": [
    "# Recall\n",
    "titanic_rf_rec = metrics.recall_score(titanic_test_survived_Y, titanic_rf_pred)\n",
    "print('Recall', titanic_rf_rec)"
   ]
  },
  {
   "cell_type": "code",
   "execution_count": 11,
   "metadata": {},
   "outputs": [
    {
     "name": "stdout",
     "output_type": "stream",
     "text": [
      "F1 Score 0.6923076923076923\n"
     ]
    }
   ],
   "source": [
    "# F1 score\n",
    "titanic_rf_f1 = metrics.f1_score(titanic_test_survived_Y, titanic_rf_pred)\n",
    "print('F1 Score', titanic_rf_f1)"
   ]
  },
  {
   "cell_type": "code",
   "execution_count": 12,
   "metadata": {},
   "outputs": [
    {
     "name": "stdout",
     "output_type": "stream",
     "text": [
      "[[0.933      0.067     ]\n",
      " [0.41056667 0.58943333]\n",
      " [0.618      0.382     ]\n",
      " [0.998      0.002     ]\n",
      " [0.9948     0.0052    ]\n",
      " [0.13363117 0.86636883]\n",
      " [0.90116667 0.09883333]\n",
      " [0.96       0.04      ]\n",
      " [0.038      0.962     ]\n",
      " [0.85084329 0.14915671]\n",
      " [0.67596912 0.32403088]\n",
      " [0.808      0.192     ]\n",
      " [0.374      0.626     ]\n",
      " [0.72534048 0.27465952]\n",
      " [0.51491429 0.48508571]\n",
      " [0.852      0.148     ]\n",
      " [0.402      0.598     ]\n",
      " [0.56616905 0.43383095]\n",
      " [0.01       0.99      ]\n",
      " [0.66116667 0.33883333]\n",
      " [0.092      0.908     ]\n",
      " [0.79064286 0.20935714]\n",
      " [0.998      0.002     ]\n",
      " [0.052      0.948     ]\n",
      " [1.         0.        ]\n",
      " [0.84433333 0.15566667]\n",
      " [0.03373333 0.96626667]\n",
      " [0.988      0.012     ]\n",
      " [0.96991304 0.03008696]\n",
      " [0.192      0.808     ]\n",
      " [0.902      0.098     ]\n",
      " [0.0024     0.9976    ]\n",
      " [0.012      0.988     ]\n",
      " [0.83253205 0.16746795]\n",
      " [0.722      0.278     ]\n",
      " [0.         1.        ]\n",
      " [0.002      0.998     ]\n",
      " [0.748      0.252     ]\n",
      " [0.92449762 0.07550238]\n",
      " [0.51255714 0.48744286]\n",
      " [0.6906     0.3094    ]\n",
      " [0.9868     0.0132    ]\n",
      " [0.         1.        ]\n",
      " [0.9851873  0.0148127 ]\n",
      " [0.59789524 0.40210476]\n",
      " [0.956      0.044     ]\n",
      " [0.308      0.692     ]\n",
      " [0.998      0.002     ]\n",
      " [0.078      0.922     ]\n",
      " [0.49778117 0.50221883]\n",
      " [0.09666667 0.90333333]\n",
      " [0.02676694 0.97323306]\n",
      " [0.374      0.626     ]\n",
      " [0.002      0.998     ]\n",
      " [0.08929707 0.91070293]\n",
      " [0.02948008 0.97051992]\n",
      " [0.         1.        ]\n",
      " [0.002      0.998     ]\n",
      " [0.08980983 0.91019017]\n",
      " [0.707      0.293     ]\n",
      " [0.34636414 0.65363586]\n",
      " [0.56616905 0.43383095]\n",
      " [0.50963333 0.49036667]\n",
      " [0.0105     0.9895    ]\n",
      " [0.004      0.996     ]\n",
      " [0.22866667 0.77133333]\n",
      " [0.002      0.998     ]\n",
      " [0.45383333 0.54616667]\n",
      " [1.         0.        ]\n",
      " [0.008      0.992     ]\n",
      " [0.08       0.92      ]\n",
      " [0.918      0.082     ]\n",
      " [0.992      0.008     ]\n",
      " [0.93546032 0.06453968]\n",
      " [0.68533333 0.31466667]\n",
      " [0.886      0.114     ]\n",
      " [0.44937143 0.55062857]\n",
      " [0.294      0.706     ]\n",
      " [0.666      0.334     ]\n",
      " [0.51491429 0.48508571]\n",
      " [0.926      0.074     ]\n",
      " [0.988      0.012     ]\n",
      " [0.97655439 0.02344561]\n",
      " [0.95266667 0.04733333]\n",
      " [0.7286119  0.2713881 ]\n",
      " [0.416      0.584     ]\n",
      " [0.067      0.933     ]\n",
      " [0.996      0.004     ]\n",
      " [0.17       0.83      ]\n",
      " [0.968      0.032     ]\n",
      " [0.002      0.998     ]\n",
      " [0.08       0.92      ]\n",
      " [0.96       0.04      ]\n",
      " [0.74276975 0.25723025]\n",
      " [0.92233333 0.07766667]\n",
      " [0.9635     0.0365    ]\n",
      " [0.002      0.998     ]\n",
      " [0.992      0.008     ]\n",
      " [0.81786667 0.18213333]\n",
      " [0.126      0.874     ]\n",
      " [0.946      0.054     ]\n",
      " [0.908      0.092     ]\n",
      " [0.59566667 0.40433333]\n",
      " [0.002      0.998     ]\n",
      " [0.42583333 0.57416667]\n",
      " [0.27670469 0.72329531]\n",
      " [0.98       0.02      ]\n",
      " [0.992      0.008     ]\n",
      " [0.006      0.994     ]\n",
      " [0.56775238 0.43224762]\n",
      " [0.876      0.124     ]\n",
      " [0.992      0.008     ]\n",
      " [0.15       0.85      ]\n",
      " [0.8364     0.1636    ]\n",
      " [0.72895708 0.27104292]\n",
      " [0.55946306 0.44053694]\n",
      " [0.038      0.962     ]\n",
      " [0.8319614  0.1680386 ]\n",
      " [0.29523102 0.70476898]\n",
      " [0.998      0.002     ]\n",
      " [0.218      0.782     ]\n",
      " [0.5242     0.4758    ]\n",
      " [0.95       0.05      ]\n",
      " [0.956      0.044     ]\n",
      " [0.368      0.632     ]\n",
      " [0.236      0.764     ]\n",
      " [0.663      0.337     ]\n",
      " [0.0886     0.9114    ]\n",
      " [0.998      0.002     ]\n",
      " [0.01       0.99      ]\n",
      " [0.20663333 0.79336667]\n",
      " [0.07416667 0.92583333]\n",
      " [0.92566667 0.07433333]\n",
      " [0.96566667 0.03433333]\n",
      " [0.018      0.982     ]\n",
      " [0.988      0.012     ]\n",
      " [0.78060714 0.21939286]\n",
      " [0.76306117 0.23693883]\n",
      " [0.60733333 0.39266667]\n",
      " [0.04845967 0.95154033]\n",
      " [0.063      0.937     ]\n",
      " [0.094      0.906     ]\n",
      " [0.29127143 0.70872857]]\n"
     ]
    }
   ],
   "source": [
    "# Predicted values as probabilities\n",
    "titanic_rf_pred_prob = titanic_rf_clf.predict_proba(titanic_test_X)\n",
    "print(titanic_rf_pred_prob)"
   ]
  },
  {
   "cell_type": "markdown",
   "metadata": {},
   "source": [
    "**Feature Importance**"
   ]
  },
  {
   "cell_type": "code",
   "execution_count": 13,
   "metadata": {},
   "outputs": [
    {
     "data": {
      "text/plain": [
       "Text(0.5, 0, 'Relative Importance')"
      ]
     },
     "execution_count": 13,
     "metadata": {},
     "output_type": "execute_result"
    },
    {
     "data": {
      "image/png": "[encoded data removed]",
      "text/plain": [
       "<Figure size 864x576 with 1 Axes>"
      ]
     },
     "metadata": {
      "needs_background": "light"
     },
     "output_type": "display_data"
    }
   ],
   "source": [
    "import numpy as np\n",
    "import matplotlib.pyplot as plt\n",
    "%matplotlib inline\n",
    "# Show the variable importance\n",
    "titanic_cln_var_names = titanic_test_X.columns\n",
    "importances = titanic_rf_clf.feature_importances_\n",
    "# Return the indices of the sorted array\n",
    "indices = np.argsort(importances)\n",
    "plt.figure(figsize=(12,8))\n",
    "plt.title('Feature Importance', fontsize = 20)\n",
    "plt.xlabel('Relative Importance', fontsize=15)\n",
    "plt.ylabel('Feature', fontsize=17)\n",
    "plt.barh(range(len(indices)), importances[indices], align='center')\n",
    "plt.yticks(range(len(indices)), [titanic_cln_var_names[i] for i in indices])\n",
    "plt.xlabel('Relative Importance')"
   ]
  },
  {
   "cell_type": "markdown",
   "metadata": {},
   "source": [
    "**Build Boosted Decision Tree Model**"
   ]
  },
  {
   "cell_type": "code",
   "execution_count": 14,
   "metadata": {},
   "outputs": [],
   "source": [
    "from sklearn.ensemble import GradientBoostingClassifier\n",
    "titanic_gbt_clf = GradientBoostingClassifier(loss='exponential', learning_rate=0.1,\n",
    "                                             n_estimators=100, subsample=1.0, min_samples_split=2,\n",
    "                                             min_samples_leaf=1, max_depth=3)\n",
    "titanic_gbt_clf = titanic_gbt_clf.fit(titanic_train_X, titanic_train_survived_Y)"
   ]
  },
  {
   "cell_type": "markdown",
   "metadata": {},
   "source": [
    "**Model Evaluation**"
   ]
  },
  {
   "cell_type": "code",
   "execution_count": 15,
   "metadata": {},
   "outputs": [
    {
     "name": "stdout",
     "output_type": "stream",
     "text": [
      "[[58 18]\n",
      " [18 49]]\n"
     ]
    }
   ],
   "source": [
    "# Predict survival as the class outcome\n",
    "titanic_gbt_pred = titanic_gbt_clf.predict(titanic_test_X)\n",
    "# Build the confusion matrix\n",
    "titanic_gbt_cm = metrics.confusion_matrix(titanic_test_survived_Y, titanic_gbt_pred, labels=[0,1])\n",
    "print(titanic_gbt_cm)"
   ]
  },
  {
   "cell_type": "code",
   "execution_count": 16,
   "metadata": {},
   "outputs": [
    {
     "name": "stdout",
     "output_type": "stream",
     "text": [
      "Accuracy 0.7482517482517482\n",
      "Precision 0.7313432835820896\n",
      "Recall 0.7313432835820896\n",
      "F1 Score 0.7313432835820896\n"
     ]
    }
   ],
   "source": [
    "# Accuracy\n",
    "titanic_gbt_acc = metrics.accuracy_score(titanic_test_survived_Y, titanic_gbt_pred)\n",
    "print('Accuracy', titanic_gbt_acc)\n",
    "# Precision\n",
    "titanic_gbt_prec = metrics.precision_score(titanic_test_survived_Y, titanic_gbt_pred)\n",
    "print('Precision', titanic_gbt_prec)\n",
    "# Recall\n",
    "titanic_gbt_rec = metrics.recall_score(titanic_test_survived_Y, titanic_gbt_pred)\n",
    "print('Recall', titanic_gbt_rec)\n",
    "# F1 score\n",
    "titanic_gbt_f1 = metrics.f1_score(titanic_test_survived_Y, titanic_gbt_pred)\n",
    "print('F1 Score', titanic_gbt_f1)"
   ]
  },
  {
   "cell_type": "code",
   "execution_count": null,
   "metadata": {},
   "outputs": [],
   "source": []
  }
 ],
 "metadata": {
  "kernelspec": {
   "display_name": "Python 3",
   "language": "python",
   "name": "python3"
  },
  "language_info": {
   "codemirror_mode": {
    "name": "ipython",
    "version": 3
   },
   "file_extension": ".py",
   "mimetype": "text/x-python",
   "name": "python",
   "nbconvert_exporter": "python",
   "pygments_lexer": "ipython3",
   "version": "3.8.3"
  }
 },
 "nbformat": 4,
 "nbformat_minor": 4
}
